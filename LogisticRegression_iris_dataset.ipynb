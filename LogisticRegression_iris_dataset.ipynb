{
  "nbformat": 4,
  "nbformat_minor": 0,
  "metadata": {
    "colab": {
      "name": "LogisticRegression_iris_dataset.ipynb",
      "provenance": [],
      "authorship_tag": "ABX9TyPo+7/pV2gqp4ErR4/C0os3",
      "include_colab_link": true
    },
    "kernelspec": {
      "name": "python3",
      "display_name": "Python 3"
    }
  },
  "cells": [
    {
      "cell_type": "markdown",
      "metadata": {
        "id": "view-in-github",
        "colab_type": "text"
      },
      "source": [
        "<a href=\"https://colab.research.google.com/github/TahcinMycin/Machine-Learning_SciKit_learn/blob/main/LogisticRegression_iris_dataset.ipynb\" target=\"_parent\"><img src=\"https://colab.research.google.com/assets/colab-badge.svg\" alt=\"Open In Colab\"/></a>"
      ]
    },
    {
      "cell_type": "code",
      "metadata": {
        "id": "Io3hmjt97BzO"
      },
      "source": [
        "from sklearn import datasets\n",
        "import numpy as np\n",
        "from sklearn.linear_model import LogisticRegression\n",
        "from random import uniform"
      ],
      "execution_count": 16,
      "outputs": []
    },
    {
      "cell_type": "code",
      "metadata": {
        "id": "2KWGPn8g7yJr"
      },
      "source": [
        "iris = datasets.load_iris()"
      ],
      "execution_count": 17,
      "outputs": []
    },
    {
      "cell_type": "code",
      "metadata": {
        "id": "6U_bqBXD8Rc-",
        "outputId": "094e16b7-59cd-47fe-ad25-b9a18fb8ce21",
        "colab": {
          "base_uri": "https://localhost:8080/",
          "height": 1000
        }
      },
      "source": [
        "print(iris.DESCR)"
      ],
      "execution_count": 18,
      "outputs": [
        {
          "output_type": "stream",
          "text": [
            ".. _iris_dataset:\n",
            "\n",
            "Iris plants dataset\n",
            "--------------------\n",
            "\n",
            "**Data Set Characteristics:**\n",
            "\n",
            "    :Number of Instances: 150 (50 in each of three classes)\n",
            "    :Number of Attributes: 4 numeric, predictive attributes and the class\n",
            "    :Attribute Information:\n",
            "        - sepal length in cm\n",
            "        - sepal width in cm\n",
            "        - petal length in cm\n",
            "        - petal width in cm\n",
            "        - class:\n",
            "                - Iris-Setosa\n",
            "                - Iris-Versicolour\n",
            "                - Iris-Virginica\n",
            "                \n",
            "    :Summary Statistics:\n",
            "\n",
            "    ============== ==== ==== ======= ===== ====================\n",
            "                    Min  Max   Mean    SD   Class Correlation\n",
            "    ============== ==== ==== ======= ===== ====================\n",
            "    sepal length:   4.3  7.9   5.84   0.83    0.7826\n",
            "    sepal width:    2.0  4.4   3.05   0.43   -0.4194\n",
            "    petal length:   1.0  6.9   3.76   1.76    0.9490  (high!)\n",
            "    petal width:    0.1  2.5   1.20   0.76    0.9565  (high!)\n",
            "    ============== ==== ==== ======= ===== ====================\n",
            "\n",
            "    :Missing Attribute Values: None\n",
            "    :Class Distribution: 33.3% for each of 3 classes.\n",
            "    :Creator: R.A. Fisher\n",
            "    :Donor: Michael Marshall (MARSHALL%PLU@io.arc.nasa.gov)\n",
            "    :Date: July, 1988\n",
            "\n",
            "The famous Iris database, first used by Sir R.A. Fisher. The dataset is taken\n",
            "from Fisher's paper. Note that it's the same as in R, but not as in the UCI\n",
            "Machine Learning Repository, which has two wrong data points.\n",
            "\n",
            "This is perhaps the best known database to be found in the\n",
            "pattern recognition literature.  Fisher's paper is a classic in the field and\n",
            "is referenced frequently to this day.  (See Duda & Hart, for example.)  The\n",
            "data set contains 3 classes of 50 instances each, where each class refers to a\n",
            "type of iris plant.  One class is linearly separable from the other 2; the\n",
            "latter are NOT linearly separable from each other.\n",
            "\n",
            ".. topic:: References\n",
            "\n",
            "   - Fisher, R.A. \"The use of multiple measurements in taxonomic problems\"\n",
            "     Annual Eugenics, 7, Part II, 179-188 (1936); also in \"Contributions to\n",
            "     Mathematical Statistics\" (John Wiley, NY, 1950).\n",
            "   - Duda, R.O., & Hart, P.E. (1973) Pattern Classification and Scene Analysis.\n",
            "     (Q327.D83) John Wiley & Sons.  ISBN 0-471-22361-1.  See page 218.\n",
            "   - Dasarathy, B.V. (1980) \"Nosing Around the Neighborhood: A New System\n",
            "     Structure and Classification Rule for Recognition in Partially Exposed\n",
            "     Environments\".  IEEE Transactions on Pattern Analysis and Machine\n",
            "     Intelligence, Vol. PAMI-2, No. 1, 67-71.\n",
            "   - Gates, G.W. (1972) \"The Reduced Nearest Neighbor Rule\".  IEEE Transactions\n",
            "     on Information Theory, May 1972, 431-433.\n",
            "   - See also: 1988 MLC Proceedings, 54-64.  Cheeseman et al\"s AUTOCLASS II\n",
            "     conceptual clustering system finds 3 classes in the data.\n",
            "   - Many, many more ...\n"
          ],
          "name": "stdout"
        }
      ]
    },
    {
      "cell_type": "code",
      "metadata": {
        "id": "rM8bWVJf8TyB"
      },
      "source": [
        "x = iris['data'][:, 3:]\n",
        "y = (iris['target'] == 2).astype(np.int)"
      ],
      "execution_count": 19,
      "outputs": []
    },
    {
      "cell_type": "code",
      "metadata": {
        "id": "GThbhQ8z9BNh",
        "outputId": "4eda7f24-2b01-4a8a-b969-9f8c62bea502",
        "colab": {
          "base_uri": "https://localhost:8080/",
          "height": 105
        }
      },
      "source": [
        "clf = LogisticRegression()\n",
        "clf.fit(x, y)"
      ],
      "execution_count": 20,
      "outputs": [
        {
          "output_type": "execute_result",
          "data": {
            "text/plain": [
              "LogisticRegression(C=1.0, class_weight=None, dual=False, fit_intercept=True,\n",
              "                   intercept_scaling=1, l1_ratio=None, max_iter=100,\n",
              "                   multi_class='auto', n_jobs=None, penalty='l2',\n",
              "                   random_state=None, solver='lbfgs', tol=0.0001, verbose=0,\n",
              "                   warm_start=False)"
            ]
          },
          "metadata": {
            "tags": []
          },
          "execution_count": 20
        }
      ]
    },
    {
      "cell_type": "code",
      "metadata": {
        "id": "AI0MR1e19e2j",
        "outputId": "5d2d891f-5abe-4ebc-ff19-80b68eeacaab",
        "colab": {
          "base_uri": "https://localhost:8080/",
          "height": 897
        }
      },
      "source": [
        "for i in range(50):\n",
        "  n = uniform(0.1, 5.5)\n",
        "  pre = clf.predict([[n]])\n",
        "  if pre == 0:\n",
        "    print(\"length: {} Setosa\".format(n))\n",
        "  elif pre == 1:\n",
        "    print(\"length: {} Versicolor\".format(n))\n",
        "  else:\n",
        "    print(\"length: {} Verginica\".format(n))"
      ],
      "execution_count": 29,
      "outputs": [
        {
          "output_type": "stream",
          "text": [
            "length: 4.091404801028156 Versicolor\n",
            "length: 5.197016957933206 Versicolor\n",
            "length: 4.534388350485646 Versicolor\n",
            "length: 0.23457772574407001 Setosa\n",
            "length: 0.9720860624989582 Setosa\n",
            "length: 3.068218711687426 Versicolor\n",
            "length: 0.9060208418241217 Setosa\n",
            "length: 1.7593602298673108 Versicolor\n",
            "length: 1.421031328136473 Setosa\n",
            "length: 0.9326669447114049 Setosa\n",
            "length: 4.009772951758406 Versicolor\n",
            "length: 2.4418087974217078 Versicolor\n",
            "length: 4.386700186666694 Versicolor\n",
            "length: 4.089295584228771 Versicolor\n",
            "length: 1.1992160563908236 Setosa\n",
            "length: 2.2559364558286084 Versicolor\n",
            "length: 0.6481393746638942 Setosa\n",
            "length: 0.536172429673459 Setosa\n",
            "length: 4.5245770448586295 Versicolor\n",
            "length: 2.171980432297946 Versicolor\n",
            "length: 0.8442151114406833 Setosa\n",
            "length: 4.203021296106267 Versicolor\n",
            "length: 4.136396559604579 Versicolor\n",
            "length: 2.05775405090832 Versicolor\n",
            "length: 4.7949171177733225 Versicolor\n",
            "length: 5.3241538674375235 Versicolor\n",
            "length: 4.417695425276568 Versicolor\n",
            "length: 5.063950612568303 Versicolor\n",
            "length: 3.391740076829673 Versicolor\n",
            "length: 3.1235951968323463 Versicolor\n",
            "length: 2.9143141497840324 Versicolor\n",
            "length: 1.0904392157596576 Setosa\n",
            "length: 5.0904566855418825 Versicolor\n",
            "length: 0.2186695792172948 Setosa\n",
            "length: 5.232234549801843 Versicolor\n",
            "length: 3.7322050743712256 Versicolor\n",
            "length: 3.013343726675779 Versicolor\n",
            "length: 4.9272435133517725 Versicolor\n",
            "length: 2.0918634811534487 Versicolor\n",
            "length: 4.838257110683724 Versicolor\n",
            "length: 3.170218165422858 Versicolor\n",
            "length: 3.1734176450827705 Versicolor\n",
            "length: 0.19275441339817784 Setosa\n",
            "length: 2.8653402507740156 Versicolor\n",
            "length: 4.3106092874639454 Versicolor\n",
            "length: 2.446981698189466 Versicolor\n",
            "length: 5.123259625512241 Versicolor\n",
            "length: 3.984533642440871 Versicolor\n",
            "length: 4.342974174034106 Versicolor\n",
            "length: 3.2249207135036655 Versicolor\n"
          ],
          "name": "stdout"
        }
      ]
    },
    {
      "cell_type": "code",
      "metadata": {
        "id": "eY9FFZ_990Al"
      },
      "source": [
        ""
      ],
      "execution_count": null,
      "outputs": []
    }
  ]
}